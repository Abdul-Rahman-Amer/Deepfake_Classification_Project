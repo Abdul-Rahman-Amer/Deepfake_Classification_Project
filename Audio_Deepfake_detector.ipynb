{
 "cells": [
  {
   "cell_type": "markdown",
   "id": "eaa8a947",
   "metadata": {},
   "source": [
    "# Let's start by checking out the data that we have"
   ]
  },
  {
   "cell_type": "code",
   "execution_count": 1,
   "id": "a3d25417",
   "metadata": {},
   "outputs": [],
   "source": [
    "import pandas as pd"
   ]
  },
  {
   "cell_type": "code",
   "execution_count": 2,
   "id": "8bf62d32",
   "metadata": {},
   "outputs": [],
   "source": [
    "df = pd.read_csv('./RD_Audio_DeepFake_classifier/KAGGLE/DATASET-balanced.csv')"
   ]
  },
  {
   "cell_type": "code",
   "execution_count": 3,
   "id": "83fff8c3",
   "metadata": {},
   "outputs": [
    {
     "name": "stdout",
     "output_type": "stream",
     "text": [
      "<class 'pandas.core.frame.DataFrame'>\n",
      "RangeIndex: 11778 entries, 0 to 11777\n",
      "Data columns (total 27 columns):\n",
      " #   Column              Non-Null Count  Dtype  \n",
      "---  ------              --------------  -----  \n",
      " 0   chroma_stft         11778 non-null  float64\n",
      " 1   rms                 11778 non-null  float64\n",
      " 2   spectral_centroid   11778 non-null  float64\n",
      " 3   spectral_bandwidth  11778 non-null  float64\n",
      " 4   rolloff             11778 non-null  float64\n",
      " 5   zero_crossing_rate  11778 non-null  float64\n",
      " 6   mfcc1               11778 non-null  float64\n",
      " 7   mfcc2               11778 non-null  float64\n",
      " 8   mfcc3               11778 non-null  float64\n",
      " 9   mfcc4               11778 non-null  float64\n",
      " 10  mfcc5               11778 non-null  float64\n",
      " 11  mfcc6               11778 non-null  float64\n",
      " 12  mfcc7               11778 non-null  float64\n",
      " 13  mfcc8               11778 non-null  float64\n",
      " 14  mfcc9               11778 non-null  float64\n",
      " 15  mfcc10              11778 non-null  float64\n",
      " 16  mfcc11              11778 non-null  float64\n",
      " 17  mfcc12              11778 non-null  float64\n",
      " 18  mfcc13              11778 non-null  float64\n",
      " 19  mfcc14              11778 non-null  float64\n",
      " 20  mfcc15              11778 non-null  float64\n",
      " 21  mfcc16              11778 non-null  float64\n",
      " 22  mfcc17              11778 non-null  float64\n",
      " 23  mfcc18              11778 non-null  float64\n",
      " 24  mfcc19              11778 non-null  float64\n",
      " 25  mfcc20              11778 non-null  float64\n",
      " 26  LABEL               11778 non-null  object \n",
      "dtypes: float64(26), object(1)\n",
      "memory usage: 2.4+ MB\n"
     ]
    }
   ],
   "source": [
    "df.info()"
   ]
  },
  {
   "cell_type": "code",
   "execution_count": 4,
   "id": "fec06d1c",
   "metadata": {},
   "outputs": [
    {
     "data": {
      "text/html": [
       "<div>\n",
       "<style scoped>\n",
       "    .dataframe tbody tr th:only-of-type {\n",
       "        vertical-align: middle;\n",
       "    }\n",
       "\n",
       "    .dataframe tbody tr th {\n",
       "        vertical-align: top;\n",
       "    }\n",
       "\n",
       "    .dataframe thead th {\n",
       "        text-align: right;\n",
       "    }\n",
       "</style>\n",
       "<table border=\"1\" class=\"dataframe\">\n",
       "  <thead>\n",
       "    <tr style=\"text-align: right;\">\n",
       "      <th></th>\n",
       "      <th>chroma_stft</th>\n",
       "      <th>rms</th>\n",
       "      <th>spectral_centroid</th>\n",
       "      <th>spectral_bandwidth</th>\n",
       "      <th>rolloff</th>\n",
       "      <th>zero_crossing_rate</th>\n",
       "      <th>mfcc1</th>\n",
       "      <th>mfcc2</th>\n",
       "      <th>mfcc3</th>\n",
       "      <th>mfcc4</th>\n",
       "      <th>...</th>\n",
       "      <th>mfcc12</th>\n",
       "      <th>mfcc13</th>\n",
       "      <th>mfcc14</th>\n",
       "      <th>mfcc15</th>\n",
       "      <th>mfcc16</th>\n",
       "      <th>mfcc17</th>\n",
       "      <th>mfcc18</th>\n",
       "      <th>mfcc19</th>\n",
       "      <th>mfcc20</th>\n",
       "      <th>LABEL</th>\n",
       "    </tr>\n",
       "  </thead>\n",
       "  <tbody>\n",
       "    <tr>\n",
       "      <th>0</th>\n",
       "      <td>0.338055</td>\n",
       "      <td>0.027948</td>\n",
       "      <td>2842.948867</td>\n",
       "      <td>4322.916759</td>\n",
       "      <td>6570.586186</td>\n",
       "      <td>0.041050</td>\n",
       "      <td>-462.169586</td>\n",
       "      <td>90.311272</td>\n",
       "      <td>19.073769</td>\n",
       "      <td>24.046888</td>\n",
       "      <td>...</td>\n",
       "      <td>-6.686564</td>\n",
       "      <td>0.902086</td>\n",
       "      <td>-7.251551</td>\n",
       "      <td>-1.198342</td>\n",
       "      <td>4.747403</td>\n",
       "      <td>-4.986279</td>\n",
       "      <td>0.953935</td>\n",
       "      <td>-5.013138</td>\n",
       "      <td>-6.779060</td>\n",
       "      <td>FAKE</td>\n",
       "    </tr>\n",
       "    <tr>\n",
       "      <th>1</th>\n",
       "      <td>0.443766</td>\n",
       "      <td>0.037838</td>\n",
       "      <td>2336.129597</td>\n",
       "      <td>3445.777044</td>\n",
       "      <td>3764.949874</td>\n",
       "      <td>0.047730</td>\n",
       "      <td>-409.413422</td>\n",
       "      <td>120.348808</td>\n",
       "      <td>-7.161531</td>\n",
       "      <td>5.114784</td>\n",
       "      <td>...</td>\n",
       "      <td>-2.131157</td>\n",
       "      <td>-6.876417</td>\n",
       "      <td>-1.359395</td>\n",
       "      <td>0.326401</td>\n",
       "      <td>-5.420016</td>\n",
       "      <td>-2.109968</td>\n",
       "      <td>-1.757634</td>\n",
       "      <td>-9.537907</td>\n",
       "      <td>-8.494421</td>\n",
       "      <td>FAKE</td>\n",
       "    </tr>\n",
       "    <tr>\n",
       "      <th>2</th>\n",
       "      <td>0.302528</td>\n",
       "      <td>0.056578</td>\n",
       "      <td>2692.988386</td>\n",
       "      <td>2861.133180</td>\n",
       "      <td>4716.610271</td>\n",
       "      <td>0.080342</td>\n",
       "      <td>-318.996033</td>\n",
       "      <td>120.490273</td>\n",
       "      <td>-24.625771</td>\n",
       "      <td>23.891073</td>\n",
       "      <td>...</td>\n",
       "      <td>-5.853725</td>\n",
       "      <td>-3.724773</td>\n",
       "      <td>-6.627182</td>\n",
       "      <td>-5.117002</td>\n",
       "      <td>-6.072106</td>\n",
       "      <td>-0.994653</td>\n",
       "      <td>-1.617120</td>\n",
       "      <td>-3.922354</td>\n",
       "      <td>-7.033001</td>\n",
       "      <td>FAKE</td>\n",
       "    </tr>\n",
       "    <tr>\n",
       "      <th>3</th>\n",
       "      <td>0.319933</td>\n",
       "      <td>0.031504</td>\n",
       "      <td>2241.665382</td>\n",
       "      <td>3503.766175</td>\n",
       "      <td>3798.641521</td>\n",
       "      <td>0.047180</td>\n",
       "      <td>-404.636749</td>\n",
       "      <td>136.320908</td>\n",
       "      <td>2.308172</td>\n",
       "      <td>-3.907071</td>\n",
       "      <td>...</td>\n",
       "      <td>-1.898315</td>\n",
       "      <td>-2.046493</td>\n",
       "      <td>-7.176277</td>\n",
       "      <td>-3.293508</td>\n",
       "      <td>4.209121</td>\n",
       "      <td>0.121835</td>\n",
       "      <td>-5.407063</td>\n",
       "      <td>-3.654926</td>\n",
       "      <td>-3.274857</td>\n",
       "      <td>FAKE</td>\n",
       "    </tr>\n",
       "    <tr>\n",
       "      <th>4</th>\n",
       "      <td>0.420055</td>\n",
       "      <td>0.016158</td>\n",
       "      <td>2526.069123</td>\n",
       "      <td>3102.659519</td>\n",
       "      <td>5025.077899</td>\n",
       "      <td>0.051905</td>\n",
       "      <td>-410.497925</td>\n",
       "      <td>152.731400</td>\n",
       "      <td>-18.266771</td>\n",
       "      <td>51.993462</td>\n",
       "      <td>...</td>\n",
       "      <td>-1.952340</td>\n",
       "      <td>0.810868</td>\n",
       "      <td>6.238493</td>\n",
       "      <td>6.555839</td>\n",
       "      <td>7.535542</td>\n",
       "      <td>2.849219</td>\n",
       "      <td>2.616843</td>\n",
       "      <td>-1.793357</td>\n",
       "      <td>-5.060998</td>\n",
       "      <td>FAKE</td>\n",
       "    </tr>\n",
       "  </tbody>\n",
       "</table>\n",
       "<p>5 rows × 27 columns</p>\n",
       "</div>"
      ],
      "text/plain": [
       "   chroma_stft       rms  spectral_centroid  spectral_bandwidth      rolloff  \\\n",
       "0     0.338055  0.027948        2842.948867         4322.916759  6570.586186   \n",
       "1     0.443766  0.037838        2336.129597         3445.777044  3764.949874   \n",
       "2     0.302528  0.056578        2692.988386         2861.133180  4716.610271   \n",
       "3     0.319933  0.031504        2241.665382         3503.766175  3798.641521   \n",
       "4     0.420055  0.016158        2526.069123         3102.659519  5025.077899   \n",
       "\n",
       "   zero_crossing_rate       mfcc1       mfcc2      mfcc3      mfcc4  ...  \\\n",
       "0            0.041050 -462.169586   90.311272  19.073769  24.046888  ...   \n",
       "1            0.047730 -409.413422  120.348808  -7.161531   5.114784  ...   \n",
       "2            0.080342 -318.996033  120.490273 -24.625771  23.891073  ...   \n",
       "3            0.047180 -404.636749  136.320908   2.308172  -3.907071  ...   \n",
       "4            0.051905 -410.497925  152.731400 -18.266771  51.993462  ...   \n",
       "\n",
       "     mfcc12    mfcc13    mfcc14    mfcc15    mfcc16    mfcc17    mfcc18  \\\n",
       "0 -6.686564  0.902086 -7.251551 -1.198342  4.747403 -4.986279  0.953935   \n",
       "1 -2.131157 -6.876417 -1.359395  0.326401 -5.420016 -2.109968 -1.757634   \n",
       "2 -5.853725 -3.724773 -6.627182 -5.117002 -6.072106 -0.994653 -1.617120   \n",
       "3 -1.898315 -2.046493 -7.176277 -3.293508  4.209121  0.121835 -5.407063   \n",
       "4 -1.952340  0.810868  6.238493  6.555839  7.535542  2.849219  2.616843   \n",
       "\n",
       "     mfcc19    mfcc20  LABEL  \n",
       "0 -5.013138 -6.779060   FAKE  \n",
       "1 -9.537907 -8.494421   FAKE  \n",
       "2 -3.922354 -7.033001   FAKE  \n",
       "3 -3.654926 -3.274857   FAKE  \n",
       "4 -1.793357 -5.060998   FAKE  \n",
       "\n",
       "[5 rows x 27 columns]"
      ]
     },
     "execution_count": 4,
     "metadata": {},
     "output_type": "execute_result"
    }
   ],
   "source": [
    "df.head()"
   ]
  },
  {
   "cell_type": "markdown",
   "id": "2e2e2932",
   "metadata": {},
   "source": [
    "## Cool to see we are given this, let's try to extract it on our own"
   ]
  },
  {
   "cell_type": "code",
   "execution_count": 8,
   "id": "e43c47d4",
   "metadata": {},
   "outputs": [
    {
     "name": "stdout",
     "output_type": "stream",
     "text": [
      "Collecting librosa\n",
      "  Downloading librosa-0.10.1-py3-none-any.whl (253 kB)\n",
      "\u001b[K     |████████████████████████████████| 253 kB 3.2 MB/s eta 0:00:01\n",
      "\u001b[?25hCollecting soxr>=0.3.2\n",
      "  Downloading soxr-0.3.7-cp39-cp39-macosx_10_9_x86_64.whl (413 kB)\n",
      "\u001b[K     |████████████████████████████████| 413 kB 12.5 MB/s eta 0:00:01\n",
      "\u001b[?25hRequirement already satisfied: msgpack>=1.0 in /Users/abdulrahmanamer/opt/anaconda3/lib/python3.9/site-packages (from librosa) (1.0.2)\n",
      "Requirement already satisfied: typing-extensions>=4.1.1 in /Users/abdulrahmanamer/opt/anaconda3/lib/python3.9/site-packages (from librosa) (4.5.0)\n",
      "Requirement already satisfied: decorator>=4.3.0 in /Users/abdulrahmanamer/opt/anaconda3/lib/python3.9/site-packages (from librosa) (5.1.1)\n",
      "Collecting soundfile>=0.12.1\n",
      "  Downloading soundfile-0.12.1-py2.py3-none-macosx_10_9_x86_64.whl (1.2 MB)\n",
      "\u001b[K     |████████████████████████████████| 1.2 MB 12.8 MB/s eta 0:00:01\n",
      "\u001b[?25hRequirement already satisfied: scikit-learn>=0.20.0 in /Users/abdulrahmanamer/opt/anaconda3/lib/python3.9/site-packages (from librosa) (1.0.2)\n",
      "Requirement already satisfied: scipy>=1.2.0 in /Users/abdulrahmanamer/opt/anaconda3/lib/python3.9/site-packages (from librosa) (1.7.3)\n",
      "Collecting lazy-loader>=0.1\n",
      "  Downloading lazy_loader-0.3-py3-none-any.whl (9.1 kB)\n",
      "Requirement already satisfied: numpy!=1.22.0,!=1.22.1,!=1.22.2,>=1.20.3 in /Users/abdulrahmanamer/opt/anaconda3/lib/python3.9/site-packages (from librosa) (1.21.5)\n",
      "Requirement already satisfied: joblib>=0.14 in /Users/abdulrahmanamer/opt/anaconda3/lib/python3.9/site-packages (from librosa) (1.1.0)\n",
      "Requirement already satisfied: numba>=0.51.0 in /Users/abdulrahmanamer/opt/anaconda3/lib/python3.9/site-packages (from librosa) (0.55.1)\n",
      "Collecting pooch>=1.0\n",
      "  Downloading pooch-1.8.0-py3-none-any.whl (62 kB)\n",
      "\u001b[K     |████████████████████████████████| 62 kB 5.2 MB/s  eta 0:00:01\n",
      "\u001b[?25hCollecting audioread>=2.1.9\n",
      "  Downloading audioread-3.0.1-py3-none-any.whl (23 kB)\n",
      "Requirement already satisfied: llvmlite<0.39,>=0.38.0rc1 in /Users/abdulrahmanamer/opt/anaconda3/lib/python3.9/site-packages (from numba>=0.51.0->librosa) (0.38.0)\n",
      "Requirement already satisfied: setuptools in /Users/abdulrahmanamer/opt/anaconda3/lib/python3.9/site-packages (from numba>=0.51.0->librosa) (61.2.0)\n",
      "Requirement already satisfied: packaging>=20.0 in /Users/abdulrahmanamer/opt/anaconda3/lib/python3.9/site-packages (from pooch>=1.0->librosa) (21.3)\n",
      "Requirement already satisfied: platformdirs>=2.5.0 in /Users/abdulrahmanamer/opt/anaconda3/lib/python3.9/site-packages (from pooch>=1.0->librosa) (2.6.2)\n",
      "Requirement already satisfied: requests>=2.19.0 in /Users/abdulrahmanamer/opt/anaconda3/lib/python3.9/site-packages (from pooch>=1.0->librosa) (2.27.1)\n",
      "Requirement already satisfied: pyparsing!=3.0.5,>=2.0.2 in /Users/abdulrahmanamer/opt/anaconda3/lib/python3.9/site-packages (from packaging>=20.0->pooch>=1.0->librosa) (3.0.4)\n",
      "Requirement already satisfied: certifi>=2017.4.17 in /Users/abdulrahmanamer/opt/anaconda3/lib/python3.9/site-packages (from requests>=2.19.0->pooch>=1.0->librosa) (2022.12.7)\n",
      "Requirement already satisfied: charset-normalizer~=2.0.0 in /Users/abdulrahmanamer/opt/anaconda3/lib/python3.9/site-packages (from requests>=2.19.0->pooch>=1.0->librosa) (2.0.4)\n",
      "Requirement already satisfied: urllib3<1.27,>=1.21.1 in /Users/abdulrahmanamer/opt/anaconda3/lib/python3.9/site-packages (from requests>=2.19.0->pooch>=1.0->librosa) (1.26.9)\n",
      "Requirement already satisfied: idna<4,>=2.5 in /Users/abdulrahmanamer/opt/anaconda3/lib/python3.9/site-packages (from requests>=2.19.0->pooch>=1.0->librosa) (3.3)\n",
      "Requirement already satisfied: threadpoolctl>=2.0.0 in /Users/abdulrahmanamer/opt/anaconda3/lib/python3.9/site-packages (from scikit-learn>=0.20.0->librosa) (2.2.0)\n",
      "Requirement already satisfied: cffi>=1.0 in /Users/abdulrahmanamer/opt/anaconda3/lib/python3.9/site-packages (from soundfile>=0.12.1->librosa) (1.15.0)\n",
      "Requirement already satisfied: pycparser in /Users/abdulrahmanamer/opt/anaconda3/lib/python3.9/site-packages (from cffi>=1.0->soundfile>=0.12.1->librosa) (2.21)\n",
      "Installing collected packages: soxr, soundfile, pooch, lazy-loader, audioread, librosa\n",
      "Successfully installed audioread-3.0.1 lazy-loader-0.3 librosa-0.10.1 pooch-1.8.0 soundfile-0.12.1 soxr-0.3.7\n"
     ]
    }
   ],
   "source": [
    "! pip install librosa"
   ]
  },
  {
   "cell_type": "code",
   "execution_count": 9,
   "id": "883e4ad3",
   "metadata": {},
   "outputs": [],
   "source": [
    "import librosa\n",
    "import numpy as np\n",
    "\n",
    "# Load the audio file\n",
    "audio_path = './RD_Audio_DeepFake_classifier/KAGGLE/AUDIO/REAL/biden-original.wav'\n",
    "y, sr = librosa.load(audio_path)\n",
    "\n",
    "# Extracting features\n",
    "chroma_stft = librosa.feature.chroma_stft(y=y, sr=sr)\n",
    "rms = librosa.feature.rms(y=y)\n",
    "spectral_centroid = librosa.feature.spectral_centroid(y=y, sr=sr)\n",
    "spectral_bandwidth = librosa.feature.spectral_bandwidth(y=y, sr=sr)\n",
    "rolloff = librosa.feature.spectral_rolloff(y=y, sr=sr)\n",
    "zero_crossing_rate = librosa.feature.zero_crossing_rate(y)\n",
    "mfccs = librosa.feature.mfcc(y=y, sr=sr, n_mfcc=20) \n",
    "\n",
    "mfcc1 = mfccs[0, :]\n",
    "mfcc2 = mfccs[1, :]\n",
    "mfcc3 = mfccs[2, :]\n",
    "mfcc4 = mfccs[3, :]\n",
    "mfcc5 = mfccs[4, :]\n",
    "mfcc6 = mfccs[5, :]\n",
    "mfcc7 = mfccs[6, :]\n",
    "mfcc8 = mfccs[7, :]\n",
    "mfcc9 = mfccs[8, :]\n",
    "mfcc10 = mfccs[9, :]\n",
    "mfcc11 = mfccs[10, :]\n",
    "mfcc12 = mfccs[11, :]\n",
    "mfcc13 = mfccs[12, :]\n",
    "mfcc14 = mfccs[13, :]\n",
    "mfcc15 = mfccs[14, :]\n",
    "mfcc16 = mfccs[15, :]\n",
    "mfcc17 = mfccs[16, :]\n",
    "mfcc18 = mfccs[17, :]\n",
    "mfcc19 = mfccs[18, :]\n",
    "mfcc20 = mfccs[19, :]\n",
    "\n",
    "\n",
    "labels = 'REAL'\n",
    "\n",
    "\n",
    "features = np.concatenate((\n",
    "    np.mean(chroma_stft, axis=1),\n",
    "    np.mean(rms, axis=1),\n",
    "    np.mean(spectral_centroid, axis=1),\n",
    "    np.mean(spectral_bandwidth, axis=1),\n",
    "    np.mean(rolloff, axis=1),\n",
    "    np.mean(zero_crossing_rate, axis=1),\n",
    "    np.mean(mfccs, axis=1)\n",
    "), axis=0)\n",
    "\n",
    "\n",
    "features_with_label = np.append(features, labels)\n"
   ]
  },
  {
   "cell_type": "markdown",
   "id": "1505d3a0",
   "metadata": {},
   "source": [
    "## I'll package that into a function and now instead of taking the mean (for testing) let's capture each step"
   ]
  },
  {
   "cell_type": "code",
   "execution_count": 11,
   "id": "195faa7e",
   "metadata": {},
   "outputs": [
    {
     "name": "stdout",
     "output_type": "stream",
     "text": [
      "          0         1         2         3         4         5         6  \\\n",
      "0  0.357717  0.600950  0.474029  1.000000  0.575484  0.175589  0.229226   \n",
      "1  0.783343  0.842583  0.721364  1.000000  0.835004  0.148058  0.173541   \n",
      "2  0.598924  0.472873  0.629496  0.753649  1.000000  0.276389  0.274303   \n",
      "3  0.464262  0.361716  0.663938  0.991324  1.000000  0.308758  0.208722   \n",
      "4  0.250066  0.149411  0.451412  1.000000  0.842665  0.226286  0.112238   \n",
      "\n",
      "          7         8         9  ...         28        29         30  \\\n",
      "0  0.254678  0.331127  0.199627  ...   9.247780  6.659717   0.043603   \n",
      "1  0.566608  0.546326  0.351749  ...  -0.856146  4.779579  -9.446074   \n",
      "2  0.653916  0.732363  0.514083  ...  -8.987667 -2.015254 -18.974724   \n",
      "3  0.508507  0.449852  0.389186  ... -12.681971 -5.168771 -19.825878   \n",
      "4  0.199927  0.220377  0.175536  ... -11.574847 -6.518993 -15.258911   \n",
      "\n",
      "          31         32         33         34        35        36  label  \n",
      "0  -3.135385  -5.418370 -13.515942  -5.735251  2.652196 -3.070073   REAL  \n",
      "1  -9.010532  -7.720643 -20.835213 -11.440607  1.644717 -4.520730   REAL  \n",
      "2 -13.317497 -11.203863 -25.628664 -16.701851  2.672747 -1.008185   REAL  \n",
      "3 -13.579905 -14.516670 -23.263298 -15.314220  0.925587 -1.637373   REAL  \n",
      "4 -12.037272 -10.461636 -15.240803  -8.994644  2.065630  2.219634   REAL  \n",
      "\n",
      "[5 rows x 38 columns]\n"
     ]
    }
   ],
   "source": [
    "import librosa\n",
    "import numpy as np\n",
    "import pandas as pd\n",
    "\n",
    "def extract_audio_features_to_df(audio_path, label):\n",
    "    # Load the audio file\n",
    "    y, sr = librosa.load(audio_path)\n",
    "\n",
    "    # Extracting features\n",
    "    chroma_stft = librosa.feature.chroma_stft(y=y, sr=sr)\n",
    "    rms = librosa.feature.rms(y=y)\n",
    "    spectral_centroid = librosa.feature.spectral_centroid(y=y, sr=sr)\n",
    "    spectral_bandwidth = librosa.feature.spectral_bandwidth(y=y, sr=sr)\n",
    "    rolloff = librosa.feature.spectral_rolloff(y=y, sr=sr)\n",
    "    zero_crossing_rate = librosa.feature.zero_crossing_rate(y)\n",
    "    mfccs = librosa.feature.mfcc(y=y, sr=sr, n_mfcc=20)\n",
    "\n",
    "    # Transpose the features to have frames as rows\n",
    "    chroma_stft = chroma_stft.T\n",
    "    rms = rms.T\n",
    "    spectral_centroid = spectral_centroid.T\n",
    "    spectral_bandwidth = spectral_bandwidth.T\n",
    "    rolloff = rolloff.T\n",
    "    zero_crossing_rate = zero_crossing_rate.T\n",
    "    mfccs = mfccs.T\n",
    "\n",
    "    # Create a DataFrame\n",
    "    df = pd.DataFrame(np.hstack((chroma_stft, rms, spectral_centroid, spectral_bandwidth, rolloff, zero_crossing_rate, mfccs)))\n",
    "    \n",
    "    # Adding label column\n",
    "    df['label'] = label\n",
    "\n",
    "    return df\n",
    "\n",
    "# Example usage:\n",
    "audio_path = './RD_Audio_DeepFake_classifier/KAGGLE/AUDIO/REAL/biden-original.wav'\n",
    "label = 'REAL'\n",
    "audio_df = extract_audio_features_to_df(audio_path, label)\n",
    "\n",
    "# Show the first few entries in the dataframe\n",
    "print(audio_df.head())\n"
   ]
  },
  {
   "cell_type": "markdown",
   "id": "c90b210f",
   "metadata": {},
   "source": [
    "# Great we can recreate this for any audio file now...for the sake of getting this done on time I will just use the existing DF"
   ]
  },
  {
   "cell_type": "code",
   "execution_count": 14,
   "id": "66bc8989",
   "metadata": {},
   "outputs": [],
   "source": [
    "labels_csv = df['LABEL']\n",
    "data_csv = df.drop(columns=['LABEL'])"
   ]
  },
  {
   "cell_type": "code",
   "execution_count": 15,
   "id": "16414700",
   "metadata": {},
   "outputs": [
    {
     "name": "stdout",
     "output_type": "stream",
     "text": [
      "Number of real data:  5889\n",
      "Number of fake data:  5889\n"
     ]
    }
   ],
   "source": [
    "real_count = (labels_csv == 'REAL').sum()\n",
    "fake_count = (labels_csv == 'FAKE').sum()\n",
    "\n",
    "print(\"Number of real data: \", real_count)\n",
    "print(\"Number of fake data: \", real_count)"
   ]
  },
  {
   "cell_type": "markdown",
   "id": "745ee75e",
   "metadata": {},
   "source": [
    "# Balanced! Let's keep going"
   ]
  },
  {
   "cell_type": "markdown",
   "id": "869eadc0",
   "metadata": {},
   "source": [
    "### Let's run a PCA to see what's important here and reduce multi-collineraity. "
   ]
  },
  {
   "cell_type": "code",
   "execution_count": 16,
   "id": "38b13aa7",
   "metadata": {},
   "outputs": [],
   "source": [
    "from sklearn.decomposition import PCA\n",
    "from sklearn.preprocessing import StandardScaler"
   ]
  },
  {
   "cell_type": "code",
   "execution_count": 18,
   "id": "e9ed4504",
   "metadata": {},
   "outputs": [],
   "source": [
    "# Separate features and labels\n",
    "X = data_csv  # Feature matrix\n",
    "y = labels_csv  # Labels\n",
    "\n",
    "# Standardize the features\n",
    "scaler = StandardScaler()\n",
    "X_scaled = scaler.fit_transform(X)"
   ]
  },
  {
   "cell_type": "code",
   "execution_count": 27,
   "id": "82139e5e",
   "metadata": {},
   "outputs": [
    {
     "data": {
      "text/plain": [
       "PCA()"
      ]
     },
     "execution_count": 27,
     "metadata": {},
     "output_type": "execute_result"
    }
   ],
   "source": [
    "pca = PCA()  # Keep 95% of variance\n",
    "pca.fit(X_scaled)"
   ]
  },
  {
   "cell_type": "code",
   "execution_count": 28,
   "id": "3ef21ff5",
   "metadata": {},
   "outputs": [],
   "source": [
    "# Percentage of variance explained by each of the selected components\n",
    "explained_variance_ratio = pca.explained_variance_ratio_"
   ]
  },
  {
   "cell_type": "code",
   "execution_count": 29,
   "id": "3c902cf1",
   "metadata": {},
   "outputs": [],
   "source": [
    "# Create a dictionary to hold the column names and their corresponding explained variance\n",
    "explained_variance_dict = {X.columns[i]: explained_variance_ratio[i] * 100 for i in range(len(X.columns))}\n"
   ]
  },
  {
   "cell_type": "code",
   "execution_count": 30,
   "id": "1184c53f",
   "metadata": {},
   "outputs": [],
   "source": [
    "# Sorting the dictionary by the highest variance explanation to lowest\n",
    "explained_variance_sorted = dict(sorted(explained_variance_dict.items(), key=lambda item: item[1], reverse=True))"
   ]
  },
  {
   "cell_type": "code",
   "execution_count": 31,
   "id": "529177d0",
   "metadata": {},
   "outputs": [
    {
     "name": "stdout",
     "output_type": "stream",
     "text": [
      "chroma_stft: 26.92%\n",
      "rms: 16.90%\n",
      "spectral_centroid: 15.06%\n",
      "spectral_bandwidth: 6.87%\n",
      "rolloff: 5.38%\n",
      "zero_crossing_rate: 3.92%\n",
      "mfcc1: 3.34%\n",
      "mfcc2: 3.06%\n",
      "mfcc3: 2.36%\n",
      "mfcc4: 1.96%\n",
      "mfcc5: 1.83%\n",
      "mfcc6: 1.78%\n",
      "mfcc7: 1.51%\n",
      "mfcc8: 1.42%\n",
      "mfcc9: 1.33%\n",
      "mfcc10: 1.16%\n",
      "mfcc11: 0.96%\n",
      "mfcc12: 0.92%\n",
      "mfcc13: 0.77%\n",
      "mfcc14: 0.69%\n",
      "mfcc15: 0.66%\n",
      "mfcc16: 0.61%\n",
      "mfcc17: 0.35%\n",
      "mfcc18: 0.14%\n",
      "mfcc19: 0.09%\n",
      "mfcc20: 0.02%\n"
     ]
    }
   ],
   "source": [
    "# Print the column name and its corresponding % explanation of the variance\n",
    "for column, variance in explained_variance_sorted.items():\n",
    "    print(f\"{column}: {variance:.2f}%\")"
   ]
  },
  {
   "cell_type": "markdown",
   "id": "e89d7397",
   "metadata": {},
   "source": [
    "## I'll drop mfcc11-20...it seems the most valueable ones are the initial ones. "
   ]
  },
  {
   "cell_type": "code",
   "execution_count": 40,
   "id": "0dda6863",
   "metadata": {},
   "outputs": [],
   "source": [
    "features_to_drop = [f'mfcc{i}' for i in range(11, 21)]\n",
    "df_reduced = data_csv.drop(features_to_drop, axis=1)"
   ]
  },
  {
   "cell_type": "code",
   "execution_count": 35,
   "id": "c3ac3dbb",
   "metadata": {},
   "outputs": [],
   "source": [
    "labels_csv = labels_csv.map({'REAL': 0, 'FAKE': 1})"
   ]
  },
  {
   "cell_type": "code",
   "execution_count": 37,
   "id": "b6338b15",
   "metadata": {},
   "outputs": [
    {
     "data": {
      "text/plain": [
       "0        1\n",
       "1        1\n",
       "2        1\n",
       "3        1\n",
       "4        1\n",
       "        ..\n",
       "11773    0\n",
       "11774    0\n",
       "11775    0\n",
       "11776    0\n",
       "11777    0\n",
       "Name: LABEL, Length: 11778, dtype: int64"
      ]
     },
     "execution_count": 37,
     "metadata": {},
     "output_type": "execute_result"
    }
   ],
   "source": [
    "labels_csv"
   ]
  },
  {
   "cell_type": "code",
   "execution_count": 42,
   "id": "e778d34a",
   "metadata": {},
   "outputs": [],
   "source": [
    "from sklearn.model_selection import train_test_split\n",
    "from sklearn.preprocessing import StandardScaler\n",
    "from sklearn.linear_model import LogisticRegression\n",
    "from sklearn.metrics import classification_report, accuracy_score\n",
    "\n",
    "X = df_reduced\n",
    "y = labels_csv\n",
    "\n",
    "# Standardize the features\n",
    "scaler = StandardScaler()\n",
    "X_scaled = scaler.fit_transform(X)\n",
    "\n",
    "# Split the dataset into training and test sets\n",
    "X_train, X_test, y_train, y_test = train_test_split(X_scaled, y, test_size=0.2, random_state=42)\n",
    "\n",
    "# Initialize the Logistic Regression model\n",
    "logreg = LogisticRegression()\n",
    "\n",
    "# Train the model\n",
    "logreg.fit(X_train, y_train)\n",
    "\n",
    "# Predict on the test set\n",
    "y_pred = logreg.predict(X_test)\n",
    "\n",
    "# Evaluate the model\n",
    "accuracy = accuracy_score(y_test, y_pred)"
   ]
  },
  {
   "cell_type": "code",
   "execution_count": 43,
   "id": "71ecf531",
   "metadata": {},
   "outputs": [
    {
     "data": {
      "text/plain": [
       "0.8637521222410866"
      ]
     },
     "execution_count": 43,
     "metadata": {},
     "output_type": "execute_result"
    }
   ],
   "source": [
    "accuracy"
   ]
  },
  {
   "cell_type": "code",
   "execution_count": 45,
   "id": "14146361",
   "metadata": {},
   "outputs": [],
   "source": [
    "import seaborn as sns\n",
    "import matplotlib.pyplot as plt\n",
    "from sklearn.metrics import confusion_matrix"
   ]
  },
  {
   "cell_type": "code",
   "execution_count": 46,
   "id": "baeabc8a",
   "metadata": {},
   "outputs": [
    {
     "data": {
      "image/png": "[encoded data removed]",
      "text/plain": [
       "<Figure size 576x432 with 2 Axes>"
      ]
     },
     "metadata": {
      "needs_background": "light"
     },
     "output_type": "display_data"
    }
   ],
   "source": [
    "cm = confusion_matrix(y_test, y_pred)\n",
    "\n",
    "# Plotting using seaborn\n",
    "plt.figure(figsize=(8, 6))\n",
    "sns.heatmap(cm, annot=True, fmt='d', cmap='Blues', \n",
    "            xticklabels=['Predicted Negative', 'Predicted Positive'], \n",
    "            yticklabels=['Actual Negative', 'Actual Positive'])\n",
    "plt.ylabel('Actual')\n",
    "plt.xlabel('Predicted')\n",
    "plt.title('Confusion Matrix')\n",
    "plt.show()"
   ]
  },
  {
   "cell_type": "markdown",
   "id": "61556e2f",
   "metadata": {},
   "source": [
    "## Not bad at all. Let's try to beat it with Deep Learning"
   ]
  },
  {
   "cell_type": "code",
   "execution_count": 44,
   "id": "f83fa8ee",
   "metadata": {},
   "outputs": [
    {
     "name": "stderr",
     "output_type": "stream",
     "text": [
      "2024-01-10 17:55:32.160805: I tensorflow/core/platform/cpu_feature_guard.cc:193] This TensorFlow binary is optimized with oneAPI Deep Neural Network Library (oneDNN) to use the following CPU instructions in performance-critical operations:  AVX2 FMA\n",
      "To enable them in other operations, rebuild TensorFlow with the appropriate compiler flags.\n"
     ]
    }
   ],
   "source": [
    "import pandas as pd\n",
    "import tensorflow as tf\n",
    "from tensorflow.keras.models import Sequential\n",
    "from tensorflow.keras.layers import Dense\n",
    "from tensorflow.keras.optimizers import Adam"
   ]
  },
  {
   "cell_type": "code",
   "execution_count": 47,
   "id": "cbae5fed",
   "metadata": {},
   "outputs": [
    {
     "name": "stderr",
     "output_type": "stream",
     "text": [
      "2024-01-10 17:57:47.050737: I tensorflow/core/platform/cpu_feature_guard.cc:193] This TensorFlow binary is optimized with oneAPI Deep Neural Network Library (oneDNN) to use the following CPU instructions in performance-critical operations:  AVX2 FMA\n",
      "To enable them in other operations, rebuild TensorFlow with the appropriate compiler flags.\n"
     ]
    },
    {
     "name": "stdout",
     "output_type": "stream",
     "text": [
      "Epoch 1/50\n",
      "236/236 [==============================] - 1s 2ms/step - loss: 0.3261 - accuracy: 0.8645 - val_loss: 0.2099 - val_accuracy: 0.9257\n",
      "Epoch 2/50\n",
      "236/236 [==============================] - 0s 1ms/step - loss: 0.1610 - accuracy: 0.9469 - val_loss: 0.1534 - val_accuracy: 0.9432\n",
      "Epoch 3/50\n",
      "236/236 [==============================] - 0s 989us/step - loss: 0.1256 - accuracy: 0.9571 - val_loss: 0.1196 - val_accuracy: 0.9533\n",
      "Epoch 4/50\n",
      "236/236 [==============================] - 0s 997us/step - loss: 0.1037 - accuracy: 0.9635 - val_loss: 0.1060 - val_accuracy: 0.9650\n",
      "Epoch 5/50\n",
      "236/236 [==============================] - 0s 1ms/step - loss: 0.0876 - accuracy: 0.9701 - val_loss: 0.0922 - val_accuracy: 0.9698\n",
      "Epoch 6/50\n",
      "236/236 [==============================] - 0s 1ms/step - loss: 0.0780 - accuracy: 0.9739 - val_loss: 0.0820 - val_accuracy: 0.9698\n",
      "Epoch 7/50\n",
      "236/236 [==============================] - 0s 980us/step - loss: 0.0698 - accuracy: 0.9777 - val_loss: 0.0762 - val_accuracy: 0.9724\n",
      "Epoch 8/50\n",
      "236/236 [==============================] - 0s 1ms/step - loss: 0.0640 - accuracy: 0.9786 - val_loss: 0.0720 - val_accuracy: 0.9740\n",
      "Epoch 9/50\n",
      "236/236 [==============================] - 0s 1ms/step - loss: 0.0597 - accuracy: 0.9800 - val_loss: 0.0693 - val_accuracy: 0.9756\n",
      "Epoch 10/50\n",
      "236/236 [==============================] - 0s 1ms/step - loss: 0.0558 - accuracy: 0.9802 - val_loss: 0.0663 - val_accuracy: 0.9761\n",
      "Epoch 11/50\n",
      "236/236 [==============================] - 0s 987us/step - loss: 0.0516 - accuracy: 0.9831 - val_loss: 0.0583 - val_accuracy: 0.9788\n",
      "Epoch 12/50\n",
      "236/236 [==============================] - 0s 1ms/step - loss: 0.0487 - accuracy: 0.9838 - val_loss: 0.0613 - val_accuracy: 0.9782\n",
      "Epoch 13/50\n",
      "236/236 [==============================] - 0s 982us/step - loss: 0.0464 - accuracy: 0.9854 - val_loss: 0.0585 - val_accuracy: 0.9782\n",
      "Epoch 14/50\n",
      "236/236 [==============================] - 0s 977us/step - loss: 0.0438 - accuracy: 0.9855 - val_loss: 0.0560 - val_accuracy: 0.9788\n",
      "Epoch 15/50\n",
      "236/236 [==============================] - 0s 979us/step - loss: 0.0419 - accuracy: 0.9858 - val_loss: 0.0541 - val_accuracy: 0.9782\n",
      "Epoch 16/50\n",
      "236/236 [==============================] - 0s 989us/step - loss: 0.0377 - accuracy: 0.9886 - val_loss: 0.0604 - val_accuracy: 0.9777\n",
      "Epoch 17/50\n",
      "236/236 [==============================] - 0s 959us/step - loss: 0.0363 - accuracy: 0.9887 - val_loss: 0.0573 - val_accuracy: 0.9793\n",
      "Epoch 18/50\n",
      "236/236 [==============================] - 0s 977us/step - loss: 0.0343 - accuracy: 0.9895 - val_loss: 0.0479 - val_accuracy: 0.9820\n",
      "Epoch 19/50\n",
      "236/236 [==============================] - 0s 970us/step - loss: 0.0329 - accuracy: 0.9900 - val_loss: 0.0535 - val_accuracy: 0.9804\n",
      "Epoch 20/50\n",
      "236/236 [==============================] - 0s 976us/step - loss: 0.0318 - accuracy: 0.9910 - val_loss: 0.0491 - val_accuracy: 0.9836\n",
      "Epoch 21/50\n",
      "236/236 [==============================] - 0s 999us/step - loss: 0.0303 - accuracy: 0.9910 - val_loss: 0.0410 - val_accuracy: 0.9862\n",
      "Epoch 22/50\n",
      "236/236 [==============================] - 0s 1ms/step - loss: 0.0278 - accuracy: 0.9916 - val_loss: 0.0419 - val_accuracy: 0.9836\n",
      "Epoch 23/50\n",
      "236/236 [==============================] - 0s 985us/step - loss: 0.0289 - accuracy: 0.9916 - val_loss: 0.0424 - val_accuracy: 0.9841\n",
      "Epoch 24/50\n",
      "236/236 [==============================] - 0s 991us/step - loss: 0.0259 - accuracy: 0.9928 - val_loss: 0.0397 - val_accuracy: 0.9836\n",
      "Epoch 25/50\n",
      "236/236 [==============================] - 0s 984us/step - loss: 0.0259 - accuracy: 0.9918 - val_loss: 0.0431 - val_accuracy: 0.9841\n",
      "Epoch 26/50\n",
      "236/236 [==============================] - 0s 1ms/step - loss: 0.0223 - accuracy: 0.9935 - val_loss: 0.0382 - val_accuracy: 0.9841\n",
      "Epoch 27/50\n",
      "236/236 [==============================] - 0s 1ms/step - loss: 0.0229 - accuracy: 0.9931 - val_loss: 0.0398 - val_accuracy: 0.9846\n",
      "Epoch 28/50\n",
      "236/236 [==============================] - 0s 965us/step - loss: 0.0220 - accuracy: 0.9935 - val_loss: 0.0414 - val_accuracy: 0.9841\n",
      "Epoch 29/50\n",
      "236/236 [==============================] - 0s 1ms/step - loss: 0.0201 - accuracy: 0.9936 - val_loss: 0.0416 - val_accuracy: 0.9836\n",
      "Epoch 30/50\n",
      "236/236 [==============================] - 0s 1ms/step - loss: 0.0196 - accuracy: 0.9934 - val_loss: 0.0474 - val_accuracy: 0.9820\n",
      "Epoch 31/50\n",
      "236/236 [==============================] - 0s 1ms/step - loss: 0.0181 - accuracy: 0.9951 - val_loss: 0.0466 - val_accuracy: 0.9846\n",
      "Epoch 32/50\n",
      "236/236 [==============================] - 0s 1ms/step - loss: 0.0173 - accuracy: 0.9952 - val_loss: 0.0396 - val_accuracy: 0.9851\n",
      "Epoch 33/50\n",
      "236/236 [==============================] - 0s 980us/step - loss: 0.0159 - accuracy: 0.9952 - val_loss: 0.0401 - val_accuracy: 0.9814\n",
      "Epoch 34/50\n",
      "236/236 [==============================] - 0s 998us/step - loss: 0.0153 - accuracy: 0.9964 - val_loss: 0.0455 - val_accuracy: 0.9830\n",
      "Epoch 35/50\n",
      "236/236 [==============================] - 0s 953us/step - loss: 0.0162 - accuracy: 0.9951 - val_loss: 0.0491 - val_accuracy: 0.9809\n",
      "Epoch 36/50\n",
      "236/236 [==============================] - 0s 1ms/step - loss: 0.0142 - accuracy: 0.9968 - val_loss: 0.0348 - val_accuracy: 0.9889\n",
      "Epoch 37/50\n",
      "236/236 [==============================] - 0s 996us/step - loss: 0.0134 - accuracy: 0.9956 - val_loss: 0.0395 - val_accuracy: 0.9851\n",
      "Epoch 38/50\n",
      "236/236 [==============================] - 0s 1ms/step - loss: 0.0145 - accuracy: 0.9960 - val_loss: 0.0454 - val_accuracy: 0.9836\n",
      "Epoch 39/50\n",
      "236/236 [==============================] - 0s 1ms/step - loss: 0.0133 - accuracy: 0.9967 - val_loss: 0.0467 - val_accuracy: 0.9830\n",
      "Epoch 40/50\n",
      "236/236 [==============================] - 0s 981us/step - loss: 0.0138 - accuracy: 0.9962 - val_loss: 0.0361 - val_accuracy: 0.9878\n",
      "Epoch 41/50\n",
      "236/236 [==============================] - 0s 967us/step - loss: 0.0127 - accuracy: 0.9964 - val_loss: 0.0431 - val_accuracy: 0.9851\n",
      "Epoch 42/50\n",
      "236/236 [==============================] - 0s 1ms/step - loss: 0.0105 - accuracy: 0.9981 - val_loss: 0.0379 - val_accuracy: 0.9857\n",
      "Epoch 43/50\n",
      "236/236 [==============================] - 0s 955us/step - loss: 0.0117 - accuracy: 0.9967 - val_loss: 0.0364 - val_accuracy: 0.9862\n",
      "Epoch 44/50\n",
      "236/236 [==============================] - 0s 978us/step - loss: 0.0102 - accuracy: 0.9975 - val_loss: 0.0346 - val_accuracy: 0.9857\n",
      "Epoch 45/50\n",
      "236/236 [==============================] - 0s 961us/step - loss: 0.0100 - accuracy: 0.9967 - val_loss: 0.0334 - val_accuracy: 0.9878\n",
      "Epoch 46/50\n",
      "236/236 [==============================] - 0s 960us/step - loss: 0.0091 - accuracy: 0.9981 - val_loss: 0.0345 - val_accuracy: 0.9889\n",
      "Epoch 47/50\n",
      "236/236 [==============================] - 0s 970us/step - loss: 0.0099 - accuracy: 0.9973 - val_loss: 0.0359 - val_accuracy: 0.9862\n",
      "Epoch 48/50\n",
      "236/236 [==============================] - 0s 1ms/step - loss: 0.0118 - accuracy: 0.9968 - val_loss: 0.0605 - val_accuracy: 0.9788\n",
      "Epoch 49/50\n",
      "236/236 [==============================] - 0s 1ms/step - loss: 0.0074 - accuracy: 0.9983 - val_loss: 0.0296 - val_accuracy: 0.9910\n",
      "Epoch 50/50\n",
      "236/236 [==============================] - 0s 1ms/step - loss: 0.0079 - accuracy: 0.9981 - val_loss: 0.0320 - val_accuracy: 0.9873\n",
      "74/74 [==============================] - 0s 669us/step - loss: 0.0275 - accuracy: 0.9919\n",
      "Test accuracy: 0.99\n"
     ]
    }
   ],
   "source": [
    "# Define the model\n",
    "model = Sequential([\n",
    "    Dense(64, activation='relu', input_shape=(X_train.shape[1],)),\n",
    "    Dense(32, activation='relu'),\n",
    "    Dense(1, activation='sigmoid')\n",
    "])\n",
    "\n",
    "# Compile the model\n",
    "model.compile(optimizer=Adam(), loss='binary_crossentropy', metrics=['accuracy'])\n",
    "\n",
    "# Train the model\n",
    "history = model.fit(X_train, y_train, validation_split=0.2, epochs=50, batch_size=32)\n",
    "\n",
    "# Evaluate the model on the test set\n",
    "test_loss, test_accuracy = model.evaluate(X_test, y_test)\n",
    "print(f'Test accuracy: {test_accuracy:.2f}')"
   ]
  },
  {
   "cell_type": "code",
   "execution_count": 49,
   "id": "b7e50ce1",
   "metadata": {},
   "outputs": [
    {
     "name": "stdout",
     "output_type": "stream",
     "text": [
      "74/74 [==============================] - 0s 566us/step\n"
     ]
    }
   ],
   "source": [
    "y_pred = model.predict(X_test)"
   ]
  },
  {
   "cell_type": "code",
   "execution_count": 53,
   "id": "cb694074",
   "metadata": {},
   "outputs": [],
   "source": [
    "y_pred\n",
    "threshold = 0.5\n",
    "y_pred = (y_pred > threshold).astype(int)"
   ]
  },
  {
   "cell_type": "code",
   "execution_count": 54,
   "id": "17e77d26",
   "metadata": {},
   "outputs": [
    {
     "data": {
      "image/png": "[encoded data removed]",
      "text/plain": [
       "<Figure size 576x432 with 2 Axes>"
      ]
     },
     "metadata": {
      "needs_background": "light"
     },
     "output_type": "display_data"
    }
   ],
   "source": [
    "cm = confusion_matrix(y_test, y_pred)\n",
    "\n",
    "# Plotting using seaborn\n",
    "plt.figure(figsize=(8, 6))\n",
    "sns.heatmap(cm, annot=True, fmt='d', cmap='Blues', \n",
    "            xticklabels=['Predicted Negative', 'Predicted Positive'], \n",
    "            yticklabels=['Actual Negative', 'Actual Positive'])\n",
    "plt.ylabel('Actual')\n",
    "plt.xlabel('Predicted')\n",
    "plt.title('Confusion Matrix')\n",
    "plt.show()"
   ]
  },
  {
   "cell_type": "markdown",
   "id": "b706086c",
   "metadata": {},
   "source": [
    "## Turns out a simple Nueral Network killed this task. "
   ]
  }
 ],
 "metadata": {
  "kernelspec": {
   "display_name": "Python 3 (ipykernel)",
   "language": "python",
   "name": "python3"
  },
  "language_info": {
   "codemirror_mode": {
    "name": "ipython",
    "version": 3
   },
   "file_extension": ".py",
   "mimetype": "text/x-python",
   "name": "python",
   "nbconvert_exporter": "python",
   "pygments_lexer": "ipython3",
   "version": "3.9.12"
  }
 },
 "nbformat": 4,
 "nbformat_minor": 5
}
